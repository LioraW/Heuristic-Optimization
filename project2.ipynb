{
 "cells": [
  {
   "cell_type": "markdown",
   "id": "7d28109c",
   "metadata": {},
   "source": [
    "<h2> Liora Wachsstock </h2>\n",
    "<h3> Project 2 Python for Data Science </h3>"
   ]
  },
  {
   "cell_type": "code",
   "execution_count": 1,
   "id": "7f890067",
   "metadata": {
    "scrolled": false
   },
   "outputs": [],
   "source": [
    "import pandas as pd\n",
    "import numpy as np\n",
    "import matplotlib.pyplot as plt"
   ]
  },
  {
   "cell_type": "code",
   "execution_count": 2,
   "id": "755db949",
   "metadata": {
    "scrolled": true
   },
   "outputs": [],
   "source": [
    "# constants\n",
    "UPPER = 10\n",
    "LOWER = -5\n",
    "NUM_ITERATIONS = 1000\n",
    "d = 5\n",
    "n = 20"
   ]
  },
  {
   "cell_type": "code",
   "execution_count": 3,
   "id": "cb6371ff",
   "metadata": {
    "scrolled": false
   },
   "outputs": [],
   "source": [
    "def generate_data(seed_num, d, n):\n",
    "    \n",
    "    rng = np.random.default_rng(seed = seed_num)\n",
    "\n",
    "    data = (UPPER - LOWER) * rng.random((n,d)) + LOWER # \"uniformly randomly, obeying the bounds\"\n",
    "    \n",
    "    return pd.DataFrame(data)\n",
    "\n",
    "def random_parameters(seed_num, num):\n",
    "    rng = np.random.default_rng(seed = seed_num)\n",
    "    return rng.random((num, 2)) #uniform random, two for each d\n",
    "\n",
    "def f(x):\n",
    "    return np.square(np.sum(np.square(x)))\n",
    "\n",
    "def best(data):\n",
    "    return data[np.argmin(f(data))]\n",
    "\n",
    "def worst(data):\n",
    "    return data[np.argmax(f(data))]\n",
    "    \n",
    "def new_vector(current_i, best_i, worst_i, r1, r2):\n",
    "    new_i = current_i + r1*(best_i - abs(current_i)) - r2*(worst_i - abs(current_i))\n",
    "    \n",
    "    if (new_i < LOWER):\n",
    "        return LOWER\n",
    "    elif (new_i > UPPER):\n",
    "        return UPPER\n",
    "    else:\n",
    "        return new_i\n",
    "\n",
    "    \n",
    "def algo(df, num_iterations):\n",
    "    data = df.T # its way more intutive to iterate through the rows, so transpose the dataframe\n",
    "    \n",
    "    updates = 0\n",
    "    while (updates < num_iterations):\n",
    "        r = random_parameters(42, data.shape[0])\n",
    "        best_v = best(data)\n",
    "        worst_v = worst(data)\n",
    "        \n",
    "        for i, vector in enumerate(data): #updating every vector in data (this is the only \"for\" loop in program)\n",
    "            vfunc = np.vectorize(new_vector)\n",
    "            new_v = vfunc(vector, best_v, worst_v, r.T[0], r.T[1]) \n",
    "            \n",
    "            data[i] = new_v if (f(new_v) <= f(data[i])) else data[i] #if the new vector is at least as good, update it\n",
    "            \n",
    "        updates += 1\n",
    "        \n",
    "        #if any vector hits the global minimum, stop\n",
    "        if (not data.any().all()):\n",
    "            break\n",
    "    \n",
    "    return data.T, updates\n",
    "\n"
   ]
  },
  {
   "cell_type": "code",
   "execution_count": 4,
   "id": "d8f8ea00",
   "metadata": {
    "scrolled": false
   },
   "outputs": [],
   "source": [
    "df = generate_data(255, d, n)\n",
    "df, iters = algo(df, NUM_ITERATIONS) #run the alogrithm "
   ]
  },
  {
   "cell_type": "code",
   "execution_count": 5,
   "id": "f30f7bc4",
   "metadata": {
    "scrolled": false
   },
   "outputs": [
    {
     "name": "stdout",
     "output_type": "stream",
     "text": [
      "1. Population size: 20\n",
      "2. Numerical values of d that cause the minium value of the function:\n",
      " [-1.82870076 -1.71924942  0.97016645 -0.13884091  1.11725567]\n",
      "3. Corresponding Minimum value of the function:  72.398400995388\n",
      "4. Max iterations used:  1000\n",
      "5.\n",
      " First five frames:\n",
      "          d0        d1        d2        d3        d4\n",
      "x0 -5.000000  0.000000  0.000000 -5.000000 -3.000000\n",
      "x1 -5.000000  0.000000  1.000000 -4.000000 -1.000000\n",
      "x2 -4.374295  0.690940  2.968148 -3.613887 -0.598365\n",
      "x3  2.150052  4.888987  0.139176 -2.580104 -0.008286\n",
      "x4 -3.044450  2.368480  6.731038 -1.564038  2.046180\n",
      "   \n",
      "Last Five frames:\n",
      "           d0        d1        d2        d3        d4\n",
      "x15  3.061387  4.393667  2.270637  6.087378  2.283492\n",
      "x16  5.848212 -2.285198 -2.015647 -2.424137  8.444106\n",
      "x17  5.909014  5.672367 -1.593297 -1.281464 -1.650901\n",
      "x18 -3.279895  0.641005  7.704547 -1.865118 -0.578825\n",
      "x19  3.686700 -4.752026 -0.140338  4.024761  3.702227\n"
     ]
    }
   ],
   "source": [
    "print(\"1. Population size:\", n)\n",
    "print(\"2. Numerical values of d that cause the minium value of the function:\\n\", np.array(best(df.T)))\n",
    "print(\"3. Corresponding Minimum value of the function: \", f((best(df.T))))\n",
    "print(\"4. Max iterations used: \", iters)\n",
    "\n",
    "\n",
    "df = df.rename(index =lambda x: 'x'+str(x), \n",
    "               columns=lambda x: 'd'+str(x))\n",
    "\n",
    "print(\"5.\\n First five frames:\")\n",
    "print(df.head()) #first 5 frames\n",
    "print(\"   \\nLast Five frames:\")\n",
    "print(df.tail())#last 5 frames \n"
   ]
  }
 ],
 "metadata": {
  "kernelspec": {
   "display_name": "Python 3",
   "language": "python",
   "name": "python3"
  },
  "language_info": {
   "codemirror_mode": {
    "name": "ipython",
    "version": 3
   },
   "file_extension": ".py",
   "mimetype": "text/x-python",
   "name": "python",
   "nbconvert_exporter": "python",
   "pygments_lexer": "ipython3",
   "version": "3.8.8"
  }
 },
 "nbformat": 4,
 "nbformat_minor": 5
}
